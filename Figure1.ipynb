{
 "cells": [
  {
   "cell_type": "markdown",
   "metadata": {},
   "source": [
    "## Studying the Effect of Edge Removal on VNE\n",
    "### Jeremy Kazimer\n",
    "### Dane Taylor\n",
    "### 8/7/2021"
   ]
  },
  {
   "cell_type": "markdown",
   "metadata": {},
   "source": [
    "#### _Import Statements_"
   ]
  },
  {
   "cell_type": "code",
   "execution_count": 13,
   "metadata": {},
   "outputs": [],
   "source": [
    "# Data structures\n",
    "import numpy as np\n",
    "import pandas as pds\n",
    "\n",
    "# System and utility\n",
    "import os, sys\n",
    "sys.path.append('utility')\n",
    "\n",
    "from VNE_util import *\n",
    "from graphs_util import *\n",
    "\n",
    "# Plots and graphs\n",
    "from matplotlib import pyplot as plt"
   ]
  },
  {
   "cell_type": "markdown",
   "metadata": {},
   "source": [
    "####  _Make a network_"
   ]
  },
  {
   "cell_type": "markdown",
   "metadata": {},
   "source": [
    "For the purposes of this experiment, we'll be operating on Erdos-Renyi random graphs ($G_{NP}$) with parameters $N$ (network size) and $p$ (edge probability).  As such, we'll use our utility code below:"
   ]
  },
  {
   "cell_type": "code",
   "execution_count": 14,
   "metadata": {},
   "outputs": [],
   "source": [
    "# Make an Erdos-Renyi Gnm graph\n",
    "\n",
    "# Number of nodes\n",
    "N = 100 \n",
    "\n",
    "# Inside edge probability\n",
    "M = 1500\n",
    "\n",
    "A = Erdos_Renyi_Gnm(N, M)"
   ]
  },
  {
   "cell_type": "code",
   "execution_count": 15,
   "metadata": {},
   "outputs": [
    {
     "name": "stdout",
     "output_type": "stream",
     "text": [
      "edges: 1500.0\n"
     ]
    }
   ],
   "source": [
    "print('edges: {}'.format(np.sum(A)/2))"
   ]
  },
  {
   "cell_type": "markdown",
   "metadata": {},
   "source": [
    "Of course, we can spy the network to get a feel of it:"
   ]
  },
  {
   "cell_type": "code",
   "execution_count": 16,
   "metadata": {},
   "outputs": [
    {
     "data": {
      "image/png": "[encoded data removed]",
      "text/plain": [
       "<Figure size 288x288 with 1 Axes>"
      ]
     },
     "metadata": {
      "needs_background": "light"
     },
     "output_type": "display_data"
    }
   ],
   "source": [
    "fig, ax = plt.subplots(1, 1, figsize = (4, 4))\n",
    "\n",
    "ax.spy(A)\n",
    "\n",
    "ax.set_ylabel('node ID, $y$', fontsize = 12)\n",
    "ax.set_xlabel('node ID, $x$', fontsize = 12)\n",
    "\n",
    "fig.tight_layout()"
   ]
  },
  {
   "cell_type": "markdown",
   "metadata": {},
   "source": [
    "#### _Computing its VNE_\n",
    "\n",
    " \n",
    "For this graph, general VNE of a spectral distribution is defined as\n",
    "$$\n",
    "h = - \\sum_{i = 1}^{N} \\rho(\\lambda_i) \\log_2 \\rho(\\lambda_i).\n",
    "$$\n",
    "Letting $\\beta >0$ be a time scale parameter, we study when \n",
    "$$\n",
    "\\rho(\\{\\lambda\\}) \\triangleq \\frac{e^{-\\beta\\lambda_i}} {\\sum_{j = 1}^{N} e^{-\\beta\\lambda_{j}}}.\n",
    "$$"
   ]
  },
  {
   "cell_type": "code",
   "execution_count": 17,
   "metadata": {},
   "outputs": [
    {
     "name": "stdout",
     "output_type": "stream",
     "text": [
      "base entropy: 3.8295979580809435e-06\n"
     ]
    }
   ],
   "source": [
    "# Compute initial VNE\n",
    "\n",
    "# Diffusion rate\n",
    "beta = 1\n",
    "\n",
    "# Base entropy\n",
    "h0 = B_entropy(A, beta = beta).sum()\n",
    "\n",
    "print('base entropy: {}'.format(h0))"
   ]
  },
  {
   "cell_type": "markdown",
   "metadata": {},
   "source": [
    "Now, to study how this changes upon removal, we can simulate that with perturbation theory."
   ]
  },
  {
   "cell_type": "markdown",
   "metadata": {},
   "source": [
    "#### _Graph Removals_\n",
    "\n",
    "Given a Laplacian $L$ and a perturbed laplacian $L + \\Delta L$, we study $h(L)$ and $h(L + \\epsilon \\Delta L)$ so that we can transform $L$ into  $\\Delta L$ by letting $\\epsilon \\in[0,1]$.\n",
    "\n",
    "\n",
    "\n",
    "Let $L=U\\Lambda U^T$ denote a diagonalizable, symmetric Laplacian matrix and consider a structural perturbation encoded my matrix $\\epsilon \\Delta L$ for $\\epsilon\\ge0$. Consider VNE with density matrix $\\rho(L)$ defined using the heat-kernel method. Then the VNE  $H(\\epsilon)$ that is associated with $L +\\epsilon \\Delta L$ has the following first-order approximation\n",
    "$$\n",
    "H(\\epsilon) = H(0) + \\epsilon H'(0) + \\mathcal{O}(\\epsilon^{2}),\n",
    "$$\n",
    "\n",
    "\n",
    "$$\n",
    "H'(0) = \\beta \\sum_{i = 1}^{N} \\left[f_i(\\{\\lambda\\})\\log_2\\left(f_i(\\{\\lambda\\})\\right)  + \\frac{f_i(\\{\\lambda\\})}{\\ln\\left(2\\right)}\\right]\\left[\\lambda_{i}'(0) - \\sum_{j = 1}^{N}f_j(\\{\\lambda\\})\\lambda_j'(0)\\right].\n",
    "$$\n",
    "\n",
    "Here,  $\\rho(\\lambda_i) = f_i(\\{\\lambda\\}) $ and $\\lambda_i'(0) = v_i^{(T)} \\Delta L v_i$ such that $v_i$ is an eigenvector corresponding to the $i$-th eigenvalue. \n",
    "\n"
   ]
  },
  {
   "cell_type": "code",
   "execution_count": 18,
   "metadata": {},
   "outputs": [],
   "source": [
    "# Number of rewires\n",
    "K = 20\n",
    "\n",
    "# Epsilon values\n",
    "epsilons = np.logspace(-3, 0, 11)\n",
    "\n",
    "# Entropy arrays\n",
    "H_act = np.zeros((len(epsilons), K+1)) # actual VNE\n",
    "H_est = np.zeros((len(epsilons), K+1)) # estimated VNE\n",
    "\n",
    "# Copy the original network, so it doesn't get modified.\n",
    "\n",
    "L = laplacian(A)\n",
    "eigs, vecs = np.linalg.eigh(L)\n",
    "A1 = A.copy()\n",
    "\n",
    "f = np.exp(-beta*eigs)\n",
    "f /= np.sum(f)\n",
    "\n",
    "dhdf = f*(-np.log2(f) + 1/np.log(2))\n",
    "\n",
    "edges = get_edges(A)\n",
    "np.random.shuffle(edges)\n",
    "for t in range(K + 1):\n",
    "    edge = edges[t]\n",
    "    \n",
    "    dL = laplacian(A1) - L\n",
    "    for idx, epsilon in enumerate(epsilons):\n",
    "        H_act[idx, t] = B_entropy(epsilon*A1 + (1 - epsilon)*A, beta).sum()\n",
    "        H_est[idx, t] = h0 + B_perturbation(dL, eigs, vecs, f, dhdf, epsilon, beta).sum()\n",
    "        \n",
    "    _ = remove_edge(A1, edge) "
   ]
  },
  {
   "cell_type": "markdown",
   "metadata": {},
   "source": [
    "And of course we can plot this now that everything has ran:"
   ]
  },
  {
   "cell_type": "code",
   "execution_count": 19,
   "metadata": {},
   "outputs": [],
   "source": [
    "save = False"
   ]
  },
  {
   "cell_type": "code",
   "execution_count": 21,
   "metadata": {},
   "outputs": [
    {
     "data": {
      "image/png": "[encoded data removed]",
      "text/plain": [
       "<Figure size 864x288 with 2 Axes>"
      ]
     },
     "metadata": {
      "needs_background": "light"
     },
     "output_type": "display_data"
    }
   ],
   "source": [
    "fig, axs = plt.subplots(1, 2, figsize = (12, 4))\n",
    "\n",
    "# Pertubation plot\n",
    "axs[0].plot(H_act[-1], lw = 2, c = 'blue', ls = ':', label = '$h(L + \\Delta L)$')\n",
    "axs[0].plot(H_est[-1], lw = 2, c = 'red', ls = '--', label = '$h(L) + H\\'(0)$')\n",
    "\n",
    "axs[0].set_xticks(range(0, K + 1, 2))\n",
    "axs[0].set_xlim(0, K)\n",
    "\n",
    "axs[0].legend(loc = 'upper left', fontsize = 14)\n",
    "\n",
    "axs[0].set_xlabel('number of edge removals, $k$', fontsize = 14)\n",
    "axs[0].set_ylabel('VNE, $h(L)$', fontsize = 14)\n",
    "\n",
    "# Error plot\n",
    "axs[1].loglog(epsilons[:-1], abs(H_est - H_act)[:-1][:,1], lw = 2, ls = ':', label = '$k = 1$')\n",
    "axs[1].loglog(epsilons[:-1], abs(H_est - H_act)[:-1][:,10], lw = 2, ls = '--', label = '$k = 10$')\n",
    "axs[1].loglog(epsilons[:-1], abs(H_est - H_act)[:-1][:,20], lw = 2, label = '$k = 20$')\n",
    "\n",
    "axs[1].set_xlim(np.min(epsilons[:-1]), np.max(epsilons[:-1]))\n",
    "\n",
    "axs[1].legend(loc = 'lower right', fontsize = 14)\n",
    "\n",
    "axs[1].set_xlabel('perturbation parameter, $\\epsilon$', fontsize = 14)\n",
    "axs[1].set_ylabel('$|h(L+\\epsilon\\Delta L) - [h(L) + \\epsilon H\\'(0)]|$', fontsize = 14)\n",
    "\n",
    "fig.tight_layout()\n",
    "\n",
    "if save == True:\n",
    "    fig.savefig('figs/removal_validation.pdf')"
   ]
  },
  {
   "cell_type": "markdown",
   "metadata": {},
   "source": [
    "#### We can see here that it isn't precisely fitting, specifically that over time it deviates from the actual curve, but where does the error lie? This is where the righthand plot comes in.  The slope of that line will tell us where the error exists."
   ]
  },
  {
   "cell_type": "code",
   "execution_count": 22,
   "metadata": {},
   "outputs": [
    {
     "name": "stderr",
     "output_type": "stream",
     "text": [
      "C:\\Users\\Administrator\\AppData\\Local\\Temp\\ipykernel_11508\\3713980626.py:1: RuntimeWarning: divide by zero encountered in log\n",
      "  ms = [np.polyfit(np.log(epsilons[:-1]), np.log(abs(H_est-H_act))[:-1][:, idx], 1)[0] for idx in range(1, K + 1)]\n"
     ]
    }
   ],
   "source": [
    "ms = [np.polyfit(np.log(epsilons[:-1]), np.log(abs(H_est-H_act))[:-1][:, idx], 1)[0] for idx in range(1, K + 1)]"
   ]
  },
  {
   "cell_type": "code",
   "execution_count": 23,
   "metadata": {},
   "outputs": [
    {
     "data": {
      "text/plain": [
       "(2.025654568006689, 2.021951610632944, 2.0268111200857692)"
      ]
     },
     "execution_count": 23,
     "metadata": {},
     "output_type": "execute_result"
    }
   ],
   "source": [
    "ms[0], ms[9], ms[19]"
   ]
  },
  {
   "cell_type": "markdown",
   "metadata": {},
   "source": [
    "---"
   ]
  }
 ],
 "metadata": {
  "kernelspec": {
   "display_name": "Python 3 (ipykernel)",
   "language": "python",
   "name": "python3"
  },
  "language_info": {
   "codemirror_mode": {
    "name": "ipython",
    "version": 3
   },
   "file_extension": ".py",
   "mimetype": "text/x-python",
   "name": "python",
   "nbconvert_exporter": "python",
   "pygments_lexer": "ipython3",
   "version": "3.9.12"
  }
 },
 "nbformat": 4,
 "nbformat_minor": 2
}
